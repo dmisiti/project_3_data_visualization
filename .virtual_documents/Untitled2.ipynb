import pandas as pd
import pprint as ppr
import matplotlib as pyplot
import geopandas as gpd
import pydeck as pdy
import numpy as np
import scipy. stats as st
import warnings
warnings.filterwarnings(\"ignore\")



